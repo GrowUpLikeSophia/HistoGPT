{
  "nbformat": 4,
  "nbformat_minor": 0,
  "metadata": {
    "colab": {
      "provenance": [],
      "gpuType": "V100"
    },
    "kernelspec": {
      "name": "python3",
      "display_name": "Python 3"
    },
    "language_info": {
      "name": "python"
    },
    "accelerator": "GPU"
  },
  "cells": [
    {
      "cell_type": "markdown",
      "source": [
        "# Setup environment"
      ],
      "metadata": {
        "id": "HNcsz0DzGFuq"
      }
    },
    {
      "cell_type": "code",
      "source": [
        "# install openslide dependencies\n",
        "!sudo apt-get install openslide-tools\n",
        "!sudo apt-get install python-openslide\n",
        "!pip install openslide-python"
      ],
      "metadata": {
        "id": "ADo3Kvc5tvM7",
        "colab": {
          "base_uri": "https://localhost:8080/"
        },
        "outputId": "0974c14f-0107-4c4d-c3d0-4d782cae0597"
      },
      "execution_count": 1,
      "outputs": [
        {
          "output_type": "stream",
          "name": "stdout",
          "text": [
            "Reading package lists... Done\n",
            "Building dependency tree... Done\n",
            "Reading state information... Done\n",
            "The following additional packages will be installed:\n",
            "  libopenslide0\n",
            "Suggested packages:\n",
            "  libtiff-tools\n",
            "The following NEW packages will be installed:\n",
            "  libopenslide0 openslide-tools\n",
            "0 upgraded, 2 newly installed, 0 to remove and 38 not upgraded.\n",
            "Need to get 104 kB of archives.\n",
            "After this operation, 297 kB of additional disk space will be used.\n",
            "Get:1 http://archive.ubuntu.com/ubuntu jammy/universe amd64 libopenslide0 amd64 3.4.1+dfsg-5build1 [89.8 kB]\n",
            "Get:2 http://archive.ubuntu.com/ubuntu jammy/universe amd64 openslide-tools amd64 3.4.1+dfsg-5build1 [13.8 kB]\n",
            "Fetched 104 kB in 1s (72.1 kB/s)\n",
            "debconf: unable to initialize frontend: Dialog\n",
            "debconf: (No usable dialog-like program is installed, so the dialog based frontend cannot be used. at /usr/share/perl5/Debconf/FrontEnd/Dialog.pm line 78, <> line 2.)\n",
            "debconf: falling back to frontend: Readline\n",
            "debconf: unable to initialize frontend: Readline\n",
            "debconf: (This frontend requires a controlling tty.)\n",
            "debconf: falling back to frontend: Teletype\n",
            "dpkg-preconfigure: unable to re-open stdin: \n",
            "Selecting previously unselected package libopenslide0.\n",
            "(Reading database ... 121752 files and directories currently installed.)\n",
            "Preparing to unpack .../libopenslide0_3.4.1+dfsg-5build1_amd64.deb ...\n",
            "Unpacking libopenslide0 (3.4.1+dfsg-5build1) ...\n",
            "Selecting previously unselected package openslide-tools.\n",
            "Preparing to unpack .../openslide-tools_3.4.1+dfsg-5build1_amd64.deb ...\n",
            "Unpacking openslide-tools (3.4.1+dfsg-5build1) ...\n",
            "Setting up libopenslide0 (3.4.1+dfsg-5build1) ...\n",
            "Setting up openslide-tools (3.4.1+dfsg-5build1) ...\n",
            "Processing triggers for man-db (2.10.2-1) ...\n",
            "Processing triggers for libc-bin (2.35-0ubuntu3.4) ...\n",
            "/sbin/ldconfig.real: /usr/local/lib/libtbb.so.12 is not a symbolic link\n",
            "\n",
            "/sbin/ldconfig.real: /usr/local/lib/libtbbbind_2_0.so.3 is not a symbolic link\n",
            "\n",
            "/sbin/ldconfig.real: /usr/local/lib/libtbbmalloc.so.2 is not a symbolic link\n",
            "\n",
            "/sbin/ldconfig.real: /usr/local/lib/libtbbbind.so.3 is not a symbolic link\n",
            "\n",
            "/sbin/ldconfig.real: /usr/local/lib/libtbbbind_2_5.so.3 is not a symbolic link\n",
            "\n",
            "/sbin/ldconfig.real: /usr/local/lib/libtbbmalloc_proxy.so.2 is not a symbolic link\n",
            "\n",
            "Reading package lists... Done\n",
            "Building dependency tree... Done\n",
            "Reading state information... Done\n",
            "E: Unable to locate package python-openslide\n",
            "Collecting openslide-python\n",
            "  Downloading openslide-python-1.3.1.tar.gz (358 kB)\n",
            "\u001b[2K     \u001b[90m━━━━━━━━━━━━━━━━━━━━━━━━━━━━━━━━━━━━━━━━\u001b[0m \u001b[32m359.0/359.0 kB\u001b[0m \u001b[31m5.7 MB/s\u001b[0m eta \u001b[36m0:00:00\u001b[0m\n",
            "\u001b[?25h  Preparing metadata (setup.py) ... \u001b[?25l\u001b[?25hdone\n",
            "Requirement already satisfied: Pillow in /usr/local/lib/python3.10/dist-packages (from openslide-python) (9.4.0)\n",
            "Building wheels for collected packages: openslide-python\n",
            "  Building wheel for openslide-python (setup.py) ... \u001b[?25l\u001b[?25hdone\n",
            "  Created wheel for openslide-python: filename=openslide_python-1.3.1-cp310-cp310-linux_x86_64.whl size=33550 sha256=f98e8489f5f1fe75b6b18c7e3f6e37adaea101d528eb30cdbd6c3ad9ac001b53\n",
            "  Stored in directory: /root/.cache/pip/wheels/79/79/fa/29a0087493c69dff7fd0b70fab5d6771002a531010161d2d97\n",
            "Successfully built openslide-python\n",
            "Installing collected packages: openslide-python\n",
            "Successfully installed openslide-python-1.3.1\n"
          ]
        }
      ]
    },
    {
      "cell_type": "code",
      "execution_count": 2,
      "metadata": {
        "colab": {
          "base_uri": "https://localhost:8080/"
        },
        "id": "yYnndg378hGy",
        "outputId": "2ecea323-4dc7-4185-b8cc-f036086a0919"
      },
      "outputs": [
        {
          "output_type": "stream",
          "name": "stdout",
          "text": [
            "Collecting flamingo-pytorch\n",
            "  Downloading flamingo_pytorch-0.1.2-py3-none-any.whl (7.8 kB)\n",
            "Installing collected packages: flamingo-pytorch\n",
            "Successfully installed flamingo-pytorch-0.1.2\n",
            "Collecting git+https://github.com/marrlab/HistoGPT\n",
            "  Cloning https://github.com/marrlab/HistoGPT to /tmp/pip-req-build-4pebi0ej\n",
            "  Running command git clone --filter=blob:none --quiet https://github.com/marrlab/HistoGPT /tmp/pip-req-build-4pebi0ej\n",
            "  Resolved https://github.com/marrlab/HistoGPT to commit 41b7306efcf596e085d9c58c1e7ec39484c66558\n",
            "  Preparing metadata (setup.py) ... \u001b[?25l\u001b[?25hdone\n",
            "Collecting einops>=0.4 (from histogpt==0.1.0)\n",
            "  Downloading einops-0.7.0-py3-none-any.whl (44 kB)\n",
            "\u001b[2K     \u001b[90m━━━━━━━━━━━━━━━━━━━━━━━━━━━━━━━━━━━━━━━━\u001b[0m \u001b[32m44.6/44.6 kB\u001b[0m \u001b[31m1.5 MB/s\u001b[0m eta \u001b[36m0:00:00\u001b[0m\n",
            "\u001b[?25hCollecting einops-exts (from histogpt==0.1.0)\n",
            "  Downloading einops_exts-0.0.4-py3-none-any.whl (3.9 kB)\n",
            "Collecting sacremoses>=0.1.1 (from histogpt==0.1.0)\n",
            "  Downloading sacremoses-0.1.1-py3-none-any.whl (897 kB)\n",
            "\u001b[2K     \u001b[90m━━━━━━━━━━━━━━━━━━━━━━━━━━━━━━━━━━━━━━━━\u001b[0m \u001b[32m897.5/897.5 kB\u001b[0m \u001b[31m15.6 MB/s\u001b[0m eta \u001b[36m0:00:00\u001b[0m\n",
            "\u001b[?25hCollecting slideio>=2.5.0 (from histogpt==0.1.0)\n",
            "  Downloading slideio-2.5.0-cp310-cp310-manylinux_2_17_x86_64.manylinux2014_x86_64.whl (49.8 MB)\n",
            "\u001b[2K     \u001b[90m━━━━━━━━━━━━━━━━━━━━━━━━━━━━━━━━━━━━━━━━\u001b[0m \u001b[32m49.8/49.8 MB\u001b[0m \u001b[31m5.0 MB/s\u001b[0m eta \u001b[36m0:00:00\u001b[0m\n",
            "\u001b[?25hRequirement already satisfied: torch>=2.1.0 in /usr/local/lib/python3.10/dist-packages (from histogpt==0.1.0) (2.2.1+cu121)\n",
            "Requirement already satisfied: transformers>=4.37.2 in /usr/local/lib/python3.10/dist-packages (from histogpt==0.1.0) (4.38.2)\n",
            "Requirement already satisfied: regex in /usr/local/lib/python3.10/dist-packages (from sacremoses>=0.1.1->histogpt==0.1.0) (2023.12.25)\n",
            "Requirement already satisfied: click in /usr/local/lib/python3.10/dist-packages (from sacremoses>=0.1.1->histogpt==0.1.0) (8.1.7)\n",
            "Requirement already satisfied: joblib in /usr/local/lib/python3.10/dist-packages (from sacremoses>=0.1.1->histogpt==0.1.0) (1.3.2)\n",
            "Requirement already satisfied: tqdm in /usr/local/lib/python3.10/dist-packages (from sacremoses>=0.1.1->histogpt==0.1.0) (4.66.2)\n",
            "Requirement already satisfied: numpy in /usr/local/lib/python3.10/dist-packages (from slideio>=2.5.0->histogpt==0.1.0) (1.25.2)\n",
            "Requirement already satisfied: filelock in /usr/local/lib/python3.10/dist-packages (from torch>=2.1.0->histogpt==0.1.0) (3.13.1)\n",
            "Requirement already satisfied: typing-extensions>=4.8.0 in /usr/local/lib/python3.10/dist-packages (from torch>=2.1.0->histogpt==0.1.0) (4.10.0)\n",
            "Requirement already satisfied: sympy in /usr/local/lib/python3.10/dist-packages (from torch>=2.1.0->histogpt==0.1.0) (1.12)\n",
            "Requirement already satisfied: networkx in /usr/local/lib/python3.10/dist-packages (from torch>=2.1.0->histogpt==0.1.0) (3.2.1)\n",
            "Requirement already satisfied: jinja2 in /usr/local/lib/python3.10/dist-packages (from torch>=2.1.0->histogpt==0.1.0) (3.1.3)\n",
            "Requirement already satisfied: fsspec in /usr/local/lib/python3.10/dist-packages (from torch>=2.1.0->histogpt==0.1.0) (2023.6.0)\n",
            "Collecting nvidia-cuda-nvrtc-cu12==12.1.105 (from torch>=2.1.0->histogpt==0.1.0)\n",
            "  Downloading nvidia_cuda_nvrtc_cu12-12.1.105-py3-none-manylinux1_x86_64.whl (23.7 MB)\n",
            "\u001b[2K     \u001b[90m━━━━━━━━━━━━━━━━━━━━━━━━━━━━━━━━━━━━━━━━\u001b[0m \u001b[32m23.7/23.7 MB\u001b[0m \u001b[31m41.3 MB/s\u001b[0m eta \u001b[36m0:00:00\u001b[0m\n",
            "\u001b[?25hCollecting nvidia-cuda-runtime-cu12==12.1.105 (from torch>=2.1.0->histogpt==0.1.0)\n",
            "  Downloading nvidia_cuda_runtime_cu12-12.1.105-py3-none-manylinux1_x86_64.whl (823 kB)\n",
            "\u001b[2K     \u001b[90m━━━━━━━━━━━━━━━━━━━━━━━━━━━━━━━━━━━━━━━━\u001b[0m \u001b[32m823.6/823.6 kB\u001b[0m \u001b[31m44.3 MB/s\u001b[0m eta \u001b[36m0:00:00\u001b[0m\n",
            "\u001b[?25hCollecting nvidia-cuda-cupti-cu12==12.1.105 (from torch>=2.1.0->histogpt==0.1.0)\n",
            "  Downloading nvidia_cuda_cupti_cu12-12.1.105-py3-none-manylinux1_x86_64.whl (14.1 MB)\n",
            "\u001b[2K     \u001b[90m━━━━━━━━━━━━━━━━━━━━━━━━━━━━━━━━━━━━━━━━\u001b[0m \u001b[32m14.1/14.1 MB\u001b[0m \u001b[31m40.8 MB/s\u001b[0m eta \u001b[36m0:00:00\u001b[0m\n",
            "\u001b[?25hCollecting nvidia-cudnn-cu12==8.9.2.26 (from torch>=2.1.0->histogpt==0.1.0)\n",
            "  Downloading nvidia_cudnn_cu12-8.9.2.26-py3-none-manylinux1_x86_64.whl (731.7 MB)\n",
            "\u001b[2K     \u001b[90m━━━━━━━━━━━━━━━━━━━━━━━━━━━━━━━━━━━━━━━━\u001b[0m \u001b[32m731.7/731.7 MB\u001b[0m \u001b[31m2.2 MB/s\u001b[0m eta \u001b[36m0:00:00\u001b[0m\n",
            "\u001b[?25hCollecting nvidia-cublas-cu12==12.1.3.1 (from torch>=2.1.0->histogpt==0.1.0)\n",
            "  Downloading nvidia_cublas_cu12-12.1.3.1-py3-none-manylinux1_x86_64.whl (410.6 MB)\n",
            "\u001b[2K     \u001b[90m━━━━━━━━━━━━━━━━━━━━━━━━━━━━━━━━━━━━━━━━\u001b[0m \u001b[32m410.6/410.6 MB\u001b[0m \u001b[31m2.8 MB/s\u001b[0m eta \u001b[36m0:00:00\u001b[0m\n",
            "\u001b[?25hCollecting nvidia-cufft-cu12==11.0.2.54 (from torch>=2.1.0->histogpt==0.1.0)\n",
            "  Downloading nvidia_cufft_cu12-11.0.2.54-py3-none-manylinux1_x86_64.whl (121.6 MB)\n",
            "\u001b[2K     \u001b[90m━━━━━━━━━━━━━━━━━━━━━━━━━━━━━━━━━━━━━━━━\u001b[0m \u001b[32m121.6/121.6 MB\u001b[0m \u001b[31m8.2 MB/s\u001b[0m eta \u001b[36m0:00:00\u001b[0m\n",
            "\u001b[?25hCollecting nvidia-curand-cu12==10.3.2.106 (from torch>=2.1.0->histogpt==0.1.0)\n",
            "  Downloading nvidia_curand_cu12-10.3.2.106-py3-none-manylinux1_x86_64.whl (56.5 MB)\n",
            "\u001b[2K     \u001b[90m━━━━━━━━━━━━━━━━━━━━━━━━━━━━━━━━━━━━━━━━\u001b[0m \u001b[32m56.5/56.5 MB\u001b[0m \u001b[31m9.7 MB/s\u001b[0m eta \u001b[36m0:00:00\u001b[0m\n",
            "\u001b[?25hCollecting nvidia-cusolver-cu12==11.4.5.107 (from torch>=2.1.0->histogpt==0.1.0)\n",
            "  Downloading nvidia_cusolver_cu12-11.4.5.107-py3-none-manylinux1_x86_64.whl (124.2 MB)\n",
            "\u001b[2K     \u001b[90m━━━━━━━━━━━━━━━━━━━━━━━━━━━━━━━━━━━━━━━━\u001b[0m \u001b[32m124.2/124.2 MB\u001b[0m \u001b[31m7.6 MB/s\u001b[0m eta \u001b[36m0:00:00\u001b[0m\n",
            "\u001b[?25hCollecting nvidia-cusparse-cu12==12.1.0.106 (from torch>=2.1.0->histogpt==0.1.0)\n",
            "  Downloading nvidia_cusparse_cu12-12.1.0.106-py3-none-manylinux1_x86_64.whl (196.0 MB)\n",
            "\u001b[2K     \u001b[90m━━━━━━━━━━━━━━━━━━━━━━━━━━━━━━━━━━━━━━━━\u001b[0m \u001b[32m196.0/196.0 MB\u001b[0m \u001b[31m5.9 MB/s\u001b[0m eta \u001b[36m0:00:00\u001b[0m\n",
            "\u001b[?25hCollecting nvidia-nccl-cu12==2.19.3 (from torch>=2.1.0->histogpt==0.1.0)\n",
            "  Downloading nvidia_nccl_cu12-2.19.3-py3-none-manylinux1_x86_64.whl (166.0 MB)\n",
            "\u001b[2K     \u001b[90m━━━━━━━━━━━━━━━━━━━━━━━━━━━━━━━━━━━━━━━━\u001b[0m \u001b[32m166.0/166.0 MB\u001b[0m \u001b[31m3.7 MB/s\u001b[0m eta \u001b[36m0:00:00\u001b[0m\n",
            "\u001b[?25hCollecting nvidia-nvtx-cu12==12.1.105 (from torch>=2.1.0->histogpt==0.1.0)\n",
            "  Downloading nvidia_nvtx_cu12-12.1.105-py3-none-manylinux1_x86_64.whl (99 kB)\n",
            "\u001b[2K     \u001b[90m━━━━━━━━━━━━━━━━━━━━━━━━━━━━━━━━━━━━━━━━\u001b[0m \u001b[32m99.1/99.1 kB\u001b[0m \u001b[31m11.8 MB/s\u001b[0m eta \u001b[36m0:00:00\u001b[0m\n",
            "\u001b[?25hRequirement already satisfied: triton==2.2.0 in /usr/local/lib/python3.10/dist-packages (from torch>=2.1.0->histogpt==0.1.0) (2.2.0)\n",
            "Collecting nvidia-nvjitlink-cu12 (from nvidia-cusolver-cu12==11.4.5.107->torch>=2.1.0->histogpt==0.1.0)\n",
            "  Downloading nvidia_nvjitlink_cu12-12.4.99-py3-none-manylinux2014_x86_64.whl (21.1 MB)\n",
            "\u001b[2K     \u001b[90m━━━━━━━━━━━━━━━━━━━━━━━━━━━━━━━━━━━━━━━━\u001b[0m \u001b[32m21.1/21.1 MB\u001b[0m \u001b[31m50.9 MB/s\u001b[0m eta \u001b[36m0:00:00\u001b[0m\n",
            "\u001b[?25hRequirement already satisfied: huggingface-hub<1.0,>=0.19.3 in /usr/local/lib/python3.10/dist-packages (from transformers>=4.37.2->histogpt==0.1.0) (0.20.3)\n",
            "Requirement already satisfied: packaging>=20.0 in /usr/local/lib/python3.10/dist-packages (from transformers>=4.37.2->histogpt==0.1.0) (24.0)\n",
            "Requirement already satisfied: pyyaml>=5.1 in /usr/local/lib/python3.10/dist-packages (from transformers>=4.37.2->histogpt==0.1.0) (6.0.1)\n",
            "Requirement already satisfied: requests in /usr/local/lib/python3.10/dist-packages (from transformers>=4.37.2->histogpt==0.1.0) (2.31.0)\n",
            "Requirement already satisfied: tokenizers<0.19,>=0.14 in /usr/local/lib/python3.10/dist-packages (from transformers>=4.37.2->histogpt==0.1.0) (0.15.2)\n",
            "Requirement already satisfied: safetensors>=0.4.1 in /usr/local/lib/python3.10/dist-packages (from transformers>=4.37.2->histogpt==0.1.0) (0.4.2)\n",
            "Requirement already satisfied: MarkupSafe>=2.0 in /usr/local/lib/python3.10/dist-packages (from jinja2->torch>=2.1.0->histogpt==0.1.0) (2.1.5)\n",
            "Requirement already satisfied: charset-normalizer<4,>=2 in /usr/local/lib/python3.10/dist-packages (from requests->transformers>=4.37.2->histogpt==0.1.0) (3.3.2)\n",
            "Requirement already satisfied: idna<4,>=2.5 in /usr/local/lib/python3.10/dist-packages (from requests->transformers>=4.37.2->histogpt==0.1.0) (3.6)\n",
            "Requirement already satisfied: urllib3<3,>=1.21.1 in /usr/local/lib/python3.10/dist-packages (from requests->transformers>=4.37.2->histogpt==0.1.0) (2.0.7)\n",
            "Requirement already satisfied: certifi>=2017.4.17 in /usr/local/lib/python3.10/dist-packages (from requests->transformers>=4.37.2->histogpt==0.1.0) (2024.2.2)\n",
            "Requirement already satisfied: mpmath>=0.19 in /usr/local/lib/python3.10/dist-packages (from sympy->torch>=2.1.0->histogpt==0.1.0) (1.3.0)\n",
            "Building wheels for collected packages: histogpt\n",
            "  Building wheel for histogpt (setup.py) ... \u001b[?25l\u001b[?25hdone\n",
            "  Created wheel for histogpt: filename=histogpt-0.1.0-py3-none-any.whl size=69512 sha256=d35c221d0a1c4a7d9ea164aae0d5d54ee0b0c41488c2bfd5c1d8782baddd6729\n",
            "  Stored in directory: /tmp/pip-ephem-wheel-cache-r6r6dx9c/wheels/a2/47/2f/d3a5aa5afacbfb84505dcb1a968bd0f8197ff54672d7e34250\n",
            "Successfully built histogpt\n",
            "Installing collected packages: slideio, sacremoses, nvidia-nvtx-cu12, nvidia-nvjitlink-cu12, nvidia-nccl-cu12, nvidia-curand-cu12, nvidia-cufft-cu12, nvidia-cuda-runtime-cu12, nvidia-cuda-nvrtc-cu12, nvidia-cuda-cupti-cu12, nvidia-cublas-cu12, einops, nvidia-cusparse-cu12, nvidia-cudnn-cu12, einops-exts, nvidia-cusolver-cu12, histogpt\n",
            "Successfully installed einops-0.7.0 einops-exts-0.0.4 histogpt-0.1.0 nvidia-cublas-cu12-12.1.3.1 nvidia-cuda-cupti-cu12-12.1.105 nvidia-cuda-nvrtc-cu12-12.1.105 nvidia-cuda-runtime-cu12-12.1.105 nvidia-cudnn-cu12-8.9.2.26 nvidia-cufft-cu12-11.0.2.54 nvidia-curand-cu12-10.3.2.106 nvidia-cusolver-cu12-11.4.5.107 nvidia-cusparse-cu12-12.1.0.106 nvidia-nccl-cu12-2.19.3 nvidia-nvjitlink-cu12-12.4.99 nvidia-nvtx-cu12-12.1.105 sacremoses-0.1.1 slideio-2.5.0\n"
          ]
        }
      ],
      "source": [
        "# install flamingo and histogpt\n",
        "!pip install flamingo-pytorch --no-deps\n",
        "!pip install git+https://github.com/marrlab/HistoGPT"
      ]
    },
    {
      "cell_type": "code",
      "source": [
        "# check whether to use a gpu or cpu\n",
        "import torch\n",
        "\n",
        "device = torch.device('cuda' if torch.cuda.is_available() else 'cpu')\n",
        "print(device)"
      ],
      "metadata": {
        "colab": {
          "base_uri": "https://localhost:8080/"
        },
        "id": "wKuH-u8KHDYX",
        "outputId": "a4f7876a-4586-4a9c-8561-b037657963d2"
      },
      "execution_count": 5,
      "outputs": [
        {
          "output_type": "stream",
          "name": "stdout",
          "text": [
            "cuda\n"
          ]
        }
      ]
    },
    {
      "cell_type": "markdown",
      "source": [
        "# Simple examples"
      ],
      "metadata": {
        "id": "ziXj33E5GuCq"
      }
    },
    {
      "cell_type": "code",
      "source": [
        "# make a forward pass through the model\n",
        "from transformers import BioGptConfig\n",
        "from histogpt.models import HistoGPTForCausalLM, PerceiverResamplerConfig\n",
        "\n",
        "histogpt = HistoGPTForCausalLM(BioGptConfig(), PerceiverResamplerConfig())\n",
        "histogpt = histogpt.to(device)\n",
        "\n",
        "text = torch.randint(0, 42384, (1, 256)).to(device)\n",
        "image = torch.rand(1, 1024, 768).to(device)\n",
        "\n",
        "print(histogpt(text, image).logits.size())"
      ],
      "metadata": {
        "colab": {
          "base_uri": "https://localhost:8080/"
        },
        "id": "B8yzhRcy9Bue",
        "outputId": "b31c033b-1a1c-42bf-9dd4-4de73c74a3d3"
      },
      "execution_count": 4,
      "outputs": [
        {
          "output_type": "stream",
          "name": "stdout",
          "text": [
            "torch.Size([1, 256, 42384])\n"
          ]
        }
      ]
    },
    {
      "cell_type": "code",
      "source": [
        "# generate text autoregressively\n",
        "from histogpt.helpers.inference import generate\n",
        "\n",
        "out = generate(\n",
        "    model=histogpt,\n",
        "    prompt=torch.randint(0, 42384, (1, 2)),\n",
        "    image=torch.rand(1, 2, 768),\n",
        "    length=256,\n",
        "    top_k=40,\n",
        "    top_p=0.95,\n",
        "    temp=0.7,\n",
        "    device=device\n",
        ")"
      ],
      "metadata": {
        "colab": {
          "base_uri": "https://localhost:8080/"
        },
        "id": "G-25l6iIb-cQ",
        "outputId": "b43bf930-3834-4715-cc36-bfdb5976b9a9"
      },
      "execution_count": 39,
      "outputs": [
        {
          "output_type": "stream",
          "name": "stderr",
          "text": []
        }
      ]
    },
    {
      "cell_type": "markdown",
      "source": [
        "# Generate reports from features"
      ],
      "metadata": {
        "id": "NPrf3xoxIBbg"
      }
    },
    {
      "cell_type": "code",
      "source": [
        "# download model weights\n",
        "!wget https://huggingface.co/marr-peng-lab/histogpt/resolve/main/histogpt-1b-6k-pruned.pth?download=true"
      ],
      "metadata": {
        "colab": {
          "base_uri": "https://localhost:8080/"
        },
        "id": "RGt2WKLUH7GP",
        "outputId": "acdb94ff-3388-4473-81cc-178ebe1d1e2c"
      },
      "execution_count": 7,
      "outputs": [
        {
          "output_type": "stream",
          "name": "stdout",
          "text": [
            "--2024-03-15 12:42:05--  https://huggingface.co/marr-peng-lab/histogpt/resolve/main/histogpt-1b-6k-pruned.pth?download=true\n",
            "Resolving huggingface.co (huggingface.co)... 13.35.7.57, 13.35.7.5, 13.35.7.81, ...\n",
            "Connecting to huggingface.co (huggingface.co)|13.35.7.57|:443... connected.\n",
            "HTTP request sent, awaiting response... 302 Found\n",
            "Location: https://cdn-lfs-us-1.huggingface.co/repos/f6/8f/f68faf0906e39e8c3590cdbdd523457dc01bcea2a52d9de48cd7b06821eaac6a/16835f1069ffcfb5b379f3d1423fbf3d99a679d1b426e7b28c4604c8e1cd6956?response-content-disposition=attachment%3B+filename*%3DUTF-8%27%27histogpt-1b-6k-pruned.pth%3B+filename%3D%22histogpt-1b-6k-pruned.pth%22%3B&Expires=1710765725&Policy=eyJTdGF0ZW1lbnQiOlt7IkNvbmRpdGlvbiI6eyJEYXRlTGVzc1RoYW4iOnsiQVdTOkVwb2NoVGltZSI6MTcxMDc2NTcyNX19LCJSZXNvdXJjZSI6Imh0dHBzOi8vY2RuLWxmcy11cy0xLmh1Z2dpbmdmYWNlLmNvL3JlcG9zL2Y2LzhmL2Y2OGZhZjA5MDZlMzllOGMzNTkwY2RiZGQ1MjM0NTdkYzAxYmNlYTJhNTJkOWRlNDhjZDdiMDY4MjFlYWFjNmEvMTY4MzVmMTA2OWZmY2ZiNWIzNzlmM2QxNDIzZmJmM2Q5OWE2NzlkMWI0MjZlN2IyOGM0NjA0YzhlMWNkNjk1Nj9yZXNwb25zZS1jb250ZW50LWRpc3Bvc2l0aW9uPSoifV19&Signature=QYbAm6hmiElBbhJ0JdwktZ%7EUuaD0CttV4BuWvwqSHB%7E%7EIW3rsHzkHOWEySAmmfoUHEs-JSaQaN2IOOpRxpDEokzeCTcMRlCJrTrfv%7E8CEyt7KnhiLjnX-iWD5OXGmcEs%7EoGW0d8Pz8XK7llRYm74bN9j4Rcz1HLsZdRSJr%7EkhDlOSUQETw4%7EsXGFRqBk9fw23ET3K9ibOqBBXqy7N2LZdCJyuAiQwr9yVo5VXXz4CyqsGBd%7EMyCKZjmOTtlqG7vFsGL3QePgVB2eYpWerbGTJx6d2I2V4-k4Wmco0zCyEDWKAlHC%7Evu6hqhpabWi-9CwleiSS9yl19pVTD4Dpp6M8g__&Key-Pair-Id=KCD77M1F0VK2B [following]\n",
            "--2024-03-15 12:42:05--  https://cdn-lfs-us-1.huggingface.co/repos/f6/8f/f68faf0906e39e8c3590cdbdd523457dc01bcea2a52d9de48cd7b06821eaac6a/16835f1069ffcfb5b379f3d1423fbf3d99a679d1b426e7b28c4604c8e1cd6956?response-content-disposition=attachment%3B+filename*%3DUTF-8%27%27histogpt-1b-6k-pruned.pth%3B+filename%3D%22histogpt-1b-6k-pruned.pth%22%3B&Expires=1710765725&Policy=eyJTdGF0ZW1lbnQiOlt7IkNvbmRpdGlvbiI6eyJEYXRlTGVzc1RoYW4iOnsiQVdTOkVwb2NoVGltZSI6MTcxMDc2NTcyNX19LCJSZXNvdXJjZSI6Imh0dHBzOi8vY2RuLWxmcy11cy0xLmh1Z2dpbmdmYWNlLmNvL3JlcG9zL2Y2LzhmL2Y2OGZhZjA5MDZlMzllOGMzNTkwY2RiZGQ1MjM0NTdkYzAxYmNlYTJhNTJkOWRlNDhjZDdiMDY4MjFlYWFjNmEvMTY4MzVmMTA2OWZmY2ZiNWIzNzlmM2QxNDIzZmJmM2Q5OWE2NzlkMWI0MjZlN2IyOGM0NjA0YzhlMWNkNjk1Nj9yZXNwb25zZS1jb250ZW50LWRpc3Bvc2l0aW9uPSoifV19&Signature=QYbAm6hmiElBbhJ0JdwktZ%7EUuaD0CttV4BuWvwqSHB%7E%7EIW3rsHzkHOWEySAmmfoUHEs-JSaQaN2IOOpRxpDEokzeCTcMRlCJrTrfv%7E8CEyt7KnhiLjnX-iWD5OXGmcEs%7EoGW0d8Pz8XK7llRYm74bN9j4Rcz1HLsZdRSJr%7EkhDlOSUQETw4%7EsXGFRqBk9fw23ET3K9ibOqBBXqy7N2LZdCJyuAiQwr9yVo5VXXz4CyqsGBd%7EMyCKZjmOTtlqG7vFsGL3QePgVB2eYpWerbGTJx6d2I2V4-k4Wmco0zCyEDWKAlHC%7Evu6hqhpabWi-9CwleiSS9yl19pVTD4Dpp6M8g__&Key-Pair-Id=KCD77M1F0VK2B\n",
            "Resolving cdn-lfs-us-1.huggingface.co (cdn-lfs-us-1.huggingface.co)... 13.35.166.59, 13.35.166.108, 13.35.166.96, ...\n",
            "Connecting to cdn-lfs-us-1.huggingface.co (cdn-lfs-us-1.huggingface.co)|13.35.166.59|:443... connected.\n",
            "HTTP request sent, awaiting response... 200 OK\n",
            "Length: 3463908902 (3.2G) [binary/octet-stream]\n",
            "Saving to: ‘histogpt-1b-6k-pruned.pth?download=true’\n",
            "\n",
            "histogpt-1b-6k-prun 100%[===================>]   3.23G  24.6MB/s    in 2m 17s  \n",
            "\n",
            "2024-03-15 12:44:22 (24.2 MB/s) - ‘histogpt-1b-6k-pruned.pth?download=true’ saved [3463908902/3463908902]\n",
            "\n"
          ]
        }
      ]
    },
    {
      "cell_type": "code",
      "source": [
        "# download example features\n",
        "!wget https://huggingface.co/marr-peng-lab/histogpt/resolve/main/2023-03-06%2023.51.44.h5?download=true"
      ],
      "metadata": {
        "colab": {
          "base_uri": "https://localhost:8080/"
        },
        "id": "ifGti83AIl2O",
        "outputId": "5cbaf890-e65b-4b28-91f5-a7c08fe68033"
      },
      "execution_count": 8,
      "outputs": [
        {
          "output_type": "stream",
          "name": "stdout",
          "text": [
            "--2024-03-15 12:45:46--  https://huggingface.co/marr-peng-lab/histogpt/resolve/main/2023-03-06%2023.51.44.h5?download=true\n",
            "Resolving huggingface.co (huggingface.co)... 13.35.7.38, 13.35.7.5, 13.35.7.57, ...\n",
            "Connecting to huggingface.co (huggingface.co)|13.35.7.38|:443... connected.\n",
            "HTTP request sent, awaiting response... 302 Found\n",
            "Location: https://cdn-lfs-us-1.huggingface.co/repos/f6/8f/f68faf0906e39e8c3590cdbdd523457dc01bcea2a52d9de48cd7b06821eaac6a/72aaa4f690facfa0b02ffcec2b327e480933e134faf8633307097273294f6b49?response-content-disposition=attachment%3B+filename*%3DUTF-8%27%272023-03-06%252023.51.44.h5%3B+filename%3D%222023-03-06+23.51.44.h5%22%3B&Expires=1710765946&Policy=eyJTdGF0ZW1lbnQiOlt7IkNvbmRpdGlvbiI6eyJEYXRlTGVzc1RoYW4iOnsiQVdTOkVwb2NoVGltZSI6MTcxMDc2NTk0Nn19LCJSZXNvdXJjZSI6Imh0dHBzOi8vY2RuLWxmcy11cy0xLmh1Z2dpbmdmYWNlLmNvL3JlcG9zL2Y2LzhmL2Y2OGZhZjA5MDZlMzllOGMzNTkwY2RiZGQ1MjM0NTdkYzAxYmNlYTJhNTJkOWRlNDhjZDdiMDY4MjFlYWFjNmEvNzJhYWE0ZjY5MGZhY2ZhMGIwMmZmY2VjMmIzMjdlNDgwOTMzZTEzNGZhZjg2MzMzMDcwOTcyNzMyOTRmNmI0OT9yZXNwb25zZS1jb250ZW50LWRpc3Bvc2l0aW9uPSoifV19&Signature=hYlQXW1YCl6B8ajLUWGQ04sv8C---uVkBjDay8xcuYdX2jCg3Rhtm%7EIEdtdml2NlEjuruclcvJl-neuibWiIB1mNcfFb%7EjYBPukGNfZtaFVQvIzlsdxFBV4uZJQ%7Ez8RXwzpoJ3giaUz8SOfRKLaI3OifetFEKHR08SSk7ZqJkd7SG0lHxdwwuCET-nO0fnWy7p-NBfcNLB3n96C%7EpOjZ9o5sy62LX-Gn9itUYK387KVhTPnKxb1Bhg7dmw-VPVYNY85o7TmEWCe6j3riubGXm106ykWY1IJm7yuWbYxJdcH2VaFvg36x40F72kSlYXGaesJFuv8FSAeMWn4Grx6KVw__&Key-Pair-Id=KCD77M1F0VK2B [following]\n",
            "--2024-03-15 12:45:46--  https://cdn-lfs-us-1.huggingface.co/repos/f6/8f/f68faf0906e39e8c3590cdbdd523457dc01bcea2a52d9de48cd7b06821eaac6a/72aaa4f690facfa0b02ffcec2b327e480933e134faf8633307097273294f6b49?response-content-disposition=attachment%3B+filename*%3DUTF-8%27%272023-03-06%252023.51.44.h5%3B+filename%3D%222023-03-06+23.51.44.h5%22%3B&Expires=1710765946&Policy=eyJTdGF0ZW1lbnQiOlt7IkNvbmRpdGlvbiI6eyJEYXRlTGVzc1RoYW4iOnsiQVdTOkVwb2NoVGltZSI6MTcxMDc2NTk0Nn19LCJSZXNvdXJjZSI6Imh0dHBzOi8vY2RuLWxmcy11cy0xLmh1Z2dpbmdmYWNlLmNvL3JlcG9zL2Y2LzhmL2Y2OGZhZjA5MDZlMzllOGMzNTkwY2RiZGQ1MjM0NTdkYzAxYmNlYTJhNTJkOWRlNDhjZDdiMDY4MjFlYWFjNmEvNzJhYWE0ZjY5MGZhY2ZhMGIwMmZmY2VjMmIzMjdlNDgwOTMzZTEzNGZhZjg2MzMzMDcwOTcyNzMyOTRmNmI0OT9yZXNwb25zZS1jb250ZW50LWRpc3Bvc2l0aW9uPSoifV19&Signature=hYlQXW1YCl6B8ajLUWGQ04sv8C---uVkBjDay8xcuYdX2jCg3Rhtm%7EIEdtdml2NlEjuruclcvJl-neuibWiIB1mNcfFb%7EjYBPukGNfZtaFVQvIzlsdxFBV4uZJQ%7Ez8RXwzpoJ3giaUz8SOfRKLaI3OifetFEKHR08SSk7ZqJkd7SG0lHxdwwuCET-nO0fnWy7p-NBfcNLB3n96C%7EpOjZ9o5sy62LX-Gn9itUYK387KVhTPnKxb1Bhg7dmw-VPVYNY85o7TmEWCe6j3riubGXm106ykWY1IJm7yuWbYxJdcH2VaFvg36x40F72kSlYXGaesJFuv8FSAeMWn4Grx6KVw__&Key-Pair-Id=KCD77M1F0VK2B\n",
            "Resolving cdn-lfs-us-1.huggingface.co (cdn-lfs-us-1.huggingface.co)... 13.35.166.55, 13.35.166.108, 13.35.166.96, ...\n",
            "Connecting to cdn-lfs-us-1.huggingface.co (cdn-lfs-us-1.huggingface.co)|13.35.166.55|:443... connected.\n",
            "HTTP request sent, awaiting response... 200 OK\n",
            "Length: 5010488 (4.8M) [binary/octet-stream]\n",
            "Saving to: ‘2023-03-06 23.51.44.h5?download=true’\n",
            "\n",
            "2023-03-06 23.51.44 100%[===================>]   4.78M  22.4MB/s    in 0.2s    \n",
            "\n",
            "2024-03-15 12:45:47 (22.4 MB/s) - ‘2023-03-06 23.51.44.h5?download=true’ saved [5010488/5010488]\n",
            "\n"
          ]
        }
      ]
    },
    {
      "cell_type": "code",
      "source": [
        "# load model weights\n",
        "PATH = '/content/histogpt-1b-6k-pruned.pth?download=true'\n",
        "state_dict = torch.load(PATH, map_location=device)\n",
        "histogpt.load_state_dict(state_dict, strict=True)"
      ],
      "metadata": {
        "colab": {
          "base_uri": "https://localhost:8080/"
        },
        "id": "UnSmB2TRKef5",
        "outputId": "a07484a0-3f09-40bb-ed3f-92c15357c41b"
      },
      "execution_count": 13,
      "outputs": [
        {
          "output_type": "execute_result",
          "data": {
            "text/plain": [
              "<All keys matched successfully>"
            ]
          },
          "metadata": {},
          "execution_count": 13
        }
      ]
    },
    {
      "cell_type": "code",
      "source": [
        "# get text prompt and image features\n",
        "import h5py\n",
        "from transformers import BioGptTokenizer\n",
        "\n",
        "tokenizer = BioGptTokenizer.from_pretrained(\"microsoft/biogpt\")\n",
        "\n",
        "prompt = 'Final diagnosis:'\n",
        "prompt = torch.tensor(tokenizer.encode(prompt)).unsqueeze(0).to(device)\n",
        "\n",
        "with h5py.File('/content/2023-03-06 23.51.44.h5?download=true', 'r') as f:\n",
        "    features = f['feats'][:]\n",
        "    features = torch.tensor(features).unsqueeze(0).to(device)"
      ],
      "metadata": {
        "id": "D7j0Hx-BSlPN"
      },
      "execution_count": 35,
      "outputs": []
    },
    {
      "cell_type": "code",
      "source": [
        "out = generate(\n",
        "    model=histogpt,\n",
        "    prompt=prompt,\n",
        "    image=features,\n",
        "    length=256,\n",
        "    top_k=40,\n",
        "    top_p=0.95,\n",
        "    temp=0.7,\n",
        "    device=device\n",
        ")\n",
        "\n",
        "decoded = tokenizer.decode(out[0, 1:])\n",
        "print(decoded)"
      ],
      "metadata": {
        "colab": {
          "base_uri": "https://localhost:8080/"
        },
        "id": "WNX2M8kTLfLx",
        "outputId": "7b19af09-7778-4561-d484-e05dc9ad389a"
      },
      "execution_count": 40,
      "outputs": [
        {
          "output_type": "stream",
          "name": "stderr",
          "text": [
            "                                                "
          ]
        },
        {
          "output_type": "stream",
          "name": "stdout",
          "text": [
            "Final diagnosis: Basal cell carcinoma. Microscopic findings: In the epidermis, endophytic proliferations of basaloid cell strands are observed in solid nest and strand-shaped formations, featuring palisade-like core positions in the peripheral zones. There is a cellular inflammatory stroma reaction. Critical findings: The diagnosis is solid basal cell carcinoma with a tumor thickness of 0. 7 mm. The specimen is accurately and completely described.\n"
          ]
        },
        {
          "output_type": "stream",
          "name": "stderr",
          "text": [
            "\r"
          ]
        }
      ]
    },
    {
      "cell_type": "markdown",
      "source": [
        "# ToDo: Get reports from images"
      ],
      "metadata": {
        "id": "Q00G2DXHJe0I"
      }
    },
    {
      "cell_type": "code",
      "source": [
        "from histogpt.helpers.patching import get_models\n",
        "\n",
        "ctranspath = get_models('cpu')"
      ],
      "metadata": {
        "colab": {
          "base_uri": "https://localhost:8080/"
        },
        "id": "RT2hcpv4luqr",
        "outputId": "ba900d4d-0865-4c2f-ee66-c32903f5256d"
      },
      "execution_count": null,
      "outputs": [
        {
          "output_type": "stream",
          "name": "stderr",
          "text": [
            "/usr/local/lib/python3.10/dist-packages/torch/functional.py:507: UserWarning: torch.meshgrid: in an upcoming release, it will be required to pass the indexing argument. (Triggered internally at ../aten/src/ATen/native/TensorShape.cpp:3549.)\n",
            "  return _VF.meshgrid(tensors, **kwargs)  # type: ignore[attr-defined]\n"
          ]
        }
      ]
    }
  ]
}